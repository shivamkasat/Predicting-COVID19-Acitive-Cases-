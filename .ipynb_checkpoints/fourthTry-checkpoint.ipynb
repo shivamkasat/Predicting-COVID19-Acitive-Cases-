{
 "cells": [
  {
   "cell_type": "code",
   "execution_count": 1,
   "metadata": {},
   "outputs": [],
   "source": [
    "import numpy as np\n",
    "import pandas as pd\n",
    "import matplotlib.pyplot as plt\n",
    "import seaborn as sns\n",
    "sns.set_style('whitegrid')\n",
    "import datetime as dt\n",
    "from sklearn import preprocessing\n",
    "from sklearn import linear_model\n",
    "import warnings\n",
    "warnings.filterwarnings('ignore')\n"
   ]
  },
  {
   "cell_type": "code",
   "execution_count": 2,
   "metadata": {},
   "outputs": [],
   "source": [
    "india_data = pd.read_csv(\"./dataset/covid19-in-india/covid_19_india.csv\")\n",
    "# print(\"india min date\", min(india_data['Date']))\n",
    "# print(\"india max Date\", max(india_data['Date']))"
   ]
  },
  {
   "cell_type": "code",
   "execution_count": 3,
   "metadata": {},
   "outputs": [],
   "source": [
    "# india_data.tail()"
   ]
  },
  {
   "cell_type": "markdown",
   "metadata": {},
   "source": [
    "#### change date to date type\n",
    "#### remove confirrmed foreign national\n"
   ]
  },
  {
   "cell_type": "code",
   "execution_count": 4,
   "metadata": {},
   "outputs": [],
   "source": [
    "india_data['Date'] = pd.to_datetime(india_data['Date'], dayfirst = True)"
   ]
  },
  {
   "cell_type": "code",
   "execution_count": 5,
   "metadata": {},
   "outputs": [],
   "source": [
    "le = preprocessing.LabelEncoder()\n",
    "india_data['Day_num'] = le.fit_transform(india_data.Date)\n",
    "india_data['Day'] = india_data['Date'].dt.day\n",
    "india_data['Month'] = india_data['Date'].dt.month\n",
    "india_data['Year'] = india_data['Date'].dt.year\n",
    "india_data['State/UnionTerritory'] = le.fit_transform(india_data['State/UnionTerritory'])\n",
    "number_c = india_data['State/UnionTerritory']\n",
    "states = le.inverse_transform(india_data['State/UnionTerritory'])\n",
    "state_dict = dict(zip(states, number_c))\n",
    "\n",
    "india_data[['Confirmed', 'Cured', 'Deaths']] = india_data[['Confirmed', 'Cured', 'Deaths']].astype('float64')\n",
    "india_data[['Confirmed', 'Cured', 'Deaths']] = india_data[['Confirmed', 'Cured', 'Deaths']].apply(lambda x: np.log1p(x))\n",
    "india_data.replace([np.inf, -np.inf], 0, inplace=True)"
   ]
  },
  {
   "cell_type": "code",
   "execution_count": 6,
   "metadata": {},
   "outputs": [],
   "source": [
    "india_data = india_data.drop(columns=['Time', 'ConfirmedForeignNational','ConfirmedIndianNational', 'Year'])"
   ]
  },
  {
   "cell_type": "code",
   "execution_count": 7,
   "metadata": {},
   "outputs": [],
   "source": [
    "# india_data.isnull().sum()"
   ]
  },
  {
   "cell_type": "code",
   "execution_count": 8,
   "metadata": {},
   "outputs": [],
   "source": [
    "# rajData = india_data.loc[india_data['State/UnionTerritory'] == state_dict['Rajasthan']]\n",
    "# plt.figure(figsize = (14,8))\n",
    "# sns.barplot(data = rajData, x = 'Day_num', y = 'Confirmed', color = 'red')\n",
    "# sns.barplot(data = rajData, x = 'Day_num', y = 'Cured', color = 'green')\n",
    "# sns.barplot(data = rajData, x = 'Day_num', y = 'Deaths', color = 'orange')"
   ]
  },
  {
   "cell_type": "code",
   "execution_count": 9,
   "metadata": {},
   "outputs": [],
   "source": [
    "def train_test_split_custom(df, start_day, train_lim, test_lim):\n",
    "    \n",
    "    X_train = df.loc[df['Day_num'] <= train_lim]\n",
    "    X_train = X_train[X_train['Day_num'] > start_day]\n",
    "    X_test = df.loc[df['Day_num'] <= test_lim]\n",
    "    X_test = X_test.loc[X_test['Day_num'] > train_lim]\n",
    "    \n",
    "    y_train = X_train['Confirmed']\n",
    "    y_test = X_test['Confirmed']\n",
    "    \n",
    "    X_train = X_train.drop(['Confirmed', 'Deaths', 'Cured'], axis = 1)\n",
    "    X_test = X_test.drop(['Confirmed','Deaths', 'Cured'], axis = 1)\n",
    "    \n",
    "    return X_train, y_train, X_test, y_test"
   ]
  },
  {
   "cell_type": "code",
   "execution_count": 10,
   "metadata": {},
   "outputs": [],
   "source": [
    "X_train, y_train, X_test, y_test = train_test_split_custom(india_data, 20, 70, 90)"
   ]
  },
  {
   "cell_type": "code",
   "execution_count": 11,
   "metadata": {},
   "outputs": [
    {
     "name": "stdout",
     "output_type": "stream",
     "text": [
      "(780, 6)\n",
      "(780,)\n",
      "(645, 6)\n",
      "(645,)\n"
     ]
    }
   ],
   "source": [
    "print(X_train.shape)\n",
    "print(y_train.shape)\n",
    "print(X_test.shape)\n",
    "print(y_test.shape)"
   ]
  },
  {
   "cell_type": "code",
   "execution_count": 12,
   "metadata": {},
   "outputs": [],
   "source": [
    "def lin_reg(X_train, Y_train, X_test):\n",
    "    # Create linear regression object\n",
    "    regr = linear_model.LinearRegression()\n",
    "\n",
    "    # Train the model using the training sets\n",
    "    regr.fit(X_train, Y_train)\n",
    "\n",
    "    # Make predictions using the testing set\n",
    "    y_pred = regr.predict(X_test)\n",
    "    \n",
    "    return regr, y_pred"
   ]
  },
  {
   "cell_type": "code",
   "execution_count": 13,
   "metadata": {},
   "outputs": [],
   "source": [
    "def plot_state(data, state_name, start_date, train_lim, test_lim):\n",
    "    state_data = data[data['State/UnionTerritory'] == state_dict[state_name]]\n",
    "    X_train, y_train, X_test, y_test = train_test_split_custom(state_data, start_date, train_lim, test_lim)\n",
    "    print(\"X_test.shape\", X_test.shape)\n",
    "    print(\"y_test.shape\", y_test.shape)\n",
    "    X_train['Date']=X_train['Date'].map(dt.datetime.toordinal)\n",
    "    X_test['Date']=X_test['Date'].map(dt.datetime.toordinal)\n",
    "\n",
    "    \n",
    "    model, pred = lin_reg(X_train, y_train, X_test)\n",
    "    \n",
    "    plt.plot(X_test['Day_num'], np.expm1(y_test), color = 'blue')\n",
    "    plt.plot(X_test['Day_num'], np.expm1(pred), color = 'green')\n",
    "    plt.show()"
   ]
  },
  {
   "cell_type": "code",
   "execution_count": 14,
   "metadata": {},
   "outputs": [
    {
     "name": "stdout",
     "output_type": "stream",
     "text": [
      "X_test.shape (10, 6)\n",
      "y_test.shape (10,)\n"
     ]
    },
    {
     "data": {
      "image/png": "[encoded data removed]",
      "text/plain": [
       "<Figure size 432x288 with 1 Axes>"
      ]
     },
     "metadata": {
      "needs_background": "light"
     },
     "output_type": "display_data"
    }
   ],
   "source": [
    "plot_state(india_data, 'Kerala', 20, 80, 90)"
   ]
  },
  {
   "cell_type": "code",
   "execution_count": 15,
   "metadata": {},
   "outputs": [
    {
     "data": {
      "text/html": [
       "<div>\n",
       "<style scoped>\n",
       "    .dataframe tbody tr th:only-of-type {\n",
       "        vertical-align: middle;\n",
       "    }\n",
       "\n",
       "    .dataframe tbody tr th {\n",
       "        vertical-align: top;\n",
       "    }\n",
       "\n",
       "    .dataframe thead th {\n",
       "        text-align: right;\n",
       "    }\n",
       "</style>\n",
       "<table border=\"1\" class=\"dataframe\">\n",
       "  <thead>\n",
       "    <tr style=\"text-align: right;\">\n",
       "      <th></th>\n",
       "      <th>Sno</th>\n",
       "      <th>Date</th>\n",
       "      <th>State/UnionTerritory</th>\n",
       "      <th>Cured</th>\n",
       "      <th>Deaths</th>\n",
       "      <th>Confirmed</th>\n",
       "      <th>Day_num</th>\n",
       "      <th>Day</th>\n",
       "      <th>Month</th>\n",
       "    </tr>\n",
       "  </thead>\n",
       "  <tbody>\n",
       "    <tr>\n",
       "      <th>0</th>\n",
       "      <td>1</td>\n",
       "      <td>2020-01-30</td>\n",
       "      <td>16</td>\n",
       "      <td>0.0</td>\n",
       "      <td>0.0</td>\n",
       "      <td>0.693147</td>\n",
       "      <td>0</td>\n",
       "      <td>30</td>\n",
       "      <td>1</td>\n",
       "    </tr>\n",
       "    <tr>\n",
       "      <th>1</th>\n",
       "      <td>2</td>\n",
       "      <td>2020-01-31</td>\n",
       "      <td>16</td>\n",
       "      <td>0.0</td>\n",
       "      <td>0.0</td>\n",
       "      <td>0.693147</td>\n",
       "      <td>1</td>\n",
       "      <td>31</td>\n",
       "      <td>1</td>\n",
       "    </tr>\n",
       "    <tr>\n",
       "      <th>2</th>\n",
       "      <td>3</td>\n",
       "      <td>2020-02-01</td>\n",
       "      <td>16</td>\n",
       "      <td>0.0</td>\n",
       "      <td>0.0</td>\n",
       "      <td>1.098612</td>\n",
       "      <td>2</td>\n",
       "      <td>1</td>\n",
       "      <td>2</td>\n",
       "    </tr>\n",
       "    <tr>\n",
       "      <th>3</th>\n",
       "      <td>4</td>\n",
       "      <td>2020-02-02</td>\n",
       "      <td>16</td>\n",
       "      <td>0.0</td>\n",
       "      <td>0.0</td>\n",
       "      <td>1.386294</td>\n",
       "      <td>3</td>\n",
       "      <td>2</td>\n",
       "      <td>2</td>\n",
       "    </tr>\n",
       "    <tr>\n",
       "      <th>4</th>\n",
       "      <td>5</td>\n",
       "      <td>2020-02-03</td>\n",
       "      <td>16</td>\n",
       "      <td>0.0</td>\n",
       "      <td>0.0</td>\n",
       "      <td>1.386294</td>\n",
       "      <td>4</td>\n",
       "      <td>3</td>\n",
       "      <td>2</td>\n",
       "    </tr>\n",
       "  </tbody>\n",
       "</table>\n",
       "</div>"
      ],
      "text/plain": [
       "   Sno       Date  State/UnionTerritory  Cured  Deaths  Confirmed  Day_num  \\\n",
       "0    1 2020-01-30                    16    0.0     0.0   0.693147        0   \n",
       "1    2 2020-01-31                    16    0.0     0.0   0.693147        1   \n",
       "2    3 2020-02-01                    16    0.0     0.0   1.098612        2   \n",
       "3    4 2020-02-02                    16    0.0     0.0   1.386294        3   \n",
       "4    5 2020-02-03                    16    0.0     0.0   1.386294        4   \n",
       "\n",
       "   Day  Month  \n",
       "0   30      1  \n",
       "1   31      1  \n",
       "2    1      2  \n",
       "3    2      2  \n",
       "4    3      2  "
      ]
     },
     "execution_count": 15,
     "metadata": {},
     "output_type": "execute_result"
    }
   ],
   "source": [
    "india_data.head()"
   ]
  },
  {
   "cell_type": "markdown",
   "metadata": {},
   "source": [
    "#### Calc lags and trends\n",
    "#### Use data of prev 20 days to predict 21st day\n",
    "#### Add 21st day to training data\n",
    "#### Use its previous 20 days to predict 22nd and so on! till you read end of the testing data\n",
    "\n"
   ]
  },
  {
   "cell_type": "code",
   "execution_count": 16,
   "metadata": {},
   "outputs": [],
   "source": [
    "# 80 corrosponds to 19 april"
   ]
  },
  {
   "cell_type": "code",
   "execution_count": 17,
   "metadata": {},
   "outputs": [],
   "source": [
    "def calculate_lag(df, lag_list, column):\n",
    "    for lag in lag_list:\n",
    "        column_lag = column + \"_\" + str(lag)\n",
    "        df[column_lag] = df.groupby(['State/UnionTerritory'])[column].shift(lag, fill_value=0)\n",
    "    return df\n",
    "\n",
    "def calculate_trend(df, lag_list, column):\n",
    "    for lag in lag_list:\n",
    "        trend_column_lag = \"Trend_\" + column + \"_\" + str(lag)\n",
    "        df[trend_column_lag] = (df.groupby(['State/UnionTerritory'])[column].shift(0, fill_value=0) - \n",
    "                                df.groupby(['State/UnionTerritory'])[column].shift(lag, fill_value=0))/df.groupby(['State/UnionTerritory'])[column].shift(lag, fill_value=0.001)\n",
    "    return df"
   ]
  },
  {
   "cell_type": "code",
   "execution_count": 18,
   "metadata": {},
   "outputs": [],
   "source": [
    "def split_data_one_day(df, start_date, d, train_lim, test_lim):\n",
    "    X_train = df[df['Day_num'] >= start_date]\n",
    "    X_train = X_train[X_train['Day_num'] < train_lim]\n",
    "    \n",
    "    y_train = X_train['Confirmed']\n",
    "    X_train.drop(columns = ['Confirmed', 'Cured', 'Deaths'])\n",
    "    X_test = df[df['Day_num'] == d]\n",
    "    y_test = X_test['Confirmed']\n",
    "    X_test.drop(columns = ['Confirmed', 'Cured', 'Deaths'], axis = 1)\n",
    "    \n",
    "    return X_train, y_train, X_test, y_test"
   ]
  },
  {
   "cell_type": "code",
   "execution_count": 19,
   "metadata": {},
   "outputs": [],
   "source": [
    "X_train, y_train, X_test, y_test = split_data_one_day(india_data[india_data['State/UnionTerritory'] == state_dict['Rajasthan']], 60, 81, 80, 90 )\n"
   ]
  },
  {
   "cell_type": "code",
   "execution_count": 59,
   "metadata": {},
   "outputs": [
    {
     "name": "stdout",
     "output_type": "stream",
     "text": [
      "[7.54644627]\n",
      "[7.60290046]\n",
      "[7.64108425]\n",
      "[7.67647365]\n",
      "[7.71824095]\n",
      "[7.77359447]\n",
      "[7.83002808]\n",
      "[7.87321705]\n",
      "[7.97899637]\n",
      "[8.04205641]\n"
     ]
    }
   ],
   "source": [
    "def lin_reg_with_lags_state(data, state_name, start_date, lag_size, state_dict, train_lim, test_lim):\n",
    "    state_data = data[data['State/UnionTerritory'] == state_dict[state_name]]\n",
    "    \n",
    "    #compute lags\n",
    "    state_data = calculate_lag(state_data, range(1, lag_size), 'Confirmed')\n",
    "    state_data = calculate_trend(state_data, range(1, 8), 'Confirmed')\n",
    "    data.replace([np.inf, -np.inf], 0, inplace=True)\n",
    "    data.fillna(0, inplace=True)\n",
    "    \n",
    "    tr_lim = train_lim\n",
    "    ts_lim = test_lim\n",
    "    y_test_data = []\n",
    "    y_pred_data = []\n",
    "    dayd = []\n",
    "    \n",
    "    for d in list(range(train_lim, test_lim)):\n",
    "        X_train, y_train, X_test, y_test = split_data_one_day(state_data, start_date, d, tr_lim, ts_lim)\n",
    "        X_train['Date']=X_train['Date'].map(dt.datetime.toordinal)\n",
    "        X_test['Date']=X_test['Date'].map(dt.datetime.toordinal)\n",
    "        model, pred = lin_reg(X_train, y_train, X_test)\n",
    "        print(y_test.values)\n",
    "        state_data.loc[state_data['Day_num'] == d, 'Confirmed'] = pred\n",
    "        \n",
    "        state_data = calculate_lag(state_data, range(1, lag_size), 'Confirmed')\n",
    "        state_data = calculate_trend(state_data, range(1, 8), 'Confirmed')\n",
    "        \n",
    "        y_test_data.append(np.expm1(y_test.values))\n",
    "        y_pred_data.append(np.expm1(pred))\n",
    "        dayd.append(d)\n",
    "        tr_lim += 1\n",
    "        start_date += 1\n",
    "        \n",
    "    return y_pred_data, y_test_data, dayd\n",
    "    \n",
    "    \n",
    "y_pred_data, y_test_data, dayd = lin_reg_with_lags_state(india_data, 'Delhi', 60, 15, state_dict, 80, 90)\n",
    "        \n",
    "    \n"
   ]
  },
  {
   "cell_type": "code",
   "execution_count": 60,
   "metadata": {},
   "outputs": [
    {
     "data": {
      "image/png": "[encoded data removed]",
      "text/plain": [
       "<Figure size 432x288 with 1 Axes>"
      ]
     },
     "metadata": {
      "needs_background": "light"
     },
     "output_type": "display_data"
    }
   ],
   "source": [
    "plt.plot(dayd, y_pred_data, color = 'blue')\n",
    "plt.plot(dayd, y_test_data, color = 'green')\n",
    "plt.ylabel('Confirmed')\n",
    "plt.xlabel('Day_num')\n",
    "plt.show()\n",
    "# print(y_test_data)"
   ]
  },
  {
   "cell_type": "code",
   "execution_count": 180,
   "metadata": {},
   "outputs": [],
   "source": [
    "def create_df(data, dayCount):\n",
    "    state = data['State/UnionTerritory']\n",
    "    state = state.values[0]\n",
    "    lastDate = max(data['Date'])\n",
    "    cols = data.columns\n",
    "    lastDay_num = max(data['Day_num'])\n",
    "    lastDay = max(data['Day'])\n",
    "    \n",
    "    start_date = lastDate + dt.timedelta(days=1)\n",
    "    curr_day_num = lastDay_num + 1\n",
    "    curr_day = lastDay + 1\n",
    "    df = pd.DataFrame(columns = cols)\n",
    "#     df1 = pd.Series([99999, start_date, state, 0.0, 0.0, 0.0 curr_day_num, curr_day, 3 ], index = cols)\n",
    "    for i in range(1, dayCount):\n",
    "        df1 = pd.Series([99999, start_date, state, 0.0, 0.0, 0.0, curr_day_num, curr_day, 5 ], index = cols)  \n",
    "        df = df.append(df1, ignore_index = True)\n",
    "        start_date = start_date + dt.timedelta(days = 1)\n",
    "        curr_day_num += 1\n",
    "        curr_day += 1\n",
    "        \n",
    "    return df"
   ]
  },
  {
   "cell_type": "code",
   "execution_count": 181,
   "metadata": {},
   "outputs": [],
   "source": [
    "def pred_future_confirmed(data, state_name, lag_size, state_dict):\n",
    "        state_data = data[data['State/UnionTerritory'] == state_dict[state_name]]\n",
    "        last_Day_num = max(state_data['Day_num'])\n",
    "        extra_state_data = create_df(state_data, 7)\n",
    "        state_data = state_data.append(extra_state_data)\n",
    "        last_test_day = max(state_data['Day_num'])\n",
    "        \n",
    "        state_data = calculate_lag(state_data, range(1, lag_size), 'Confirmed')\n",
    "        state_data = calculate_trend(state_data, range(1, 8), 'Confirmed')\n",
    "        data.replace([np.inf, -np.inf], 0, inplace=True)\n",
    "        data.fillna(0, inplace=True)\n",
    "        \n",
    "        tr_lim = train_lim\n",
    "        ts_lim = test_lim\n",
    "        y_test_data = []\n",
    "        y_pred_data = []\n",
    "        dayd = []\n",
    "\n",
    "       "
   ]
  },
  {
   "cell_type": "code",
   "execution_count": null,
   "metadata": {},
   "outputs": [],
   "source": []
  },
  {
   "cell_type": "code",
   "execution_count": 182,
   "metadata": {},
   "outputs": [
    {
     "name": "stdout",
     "output_type": "stream",
     "text": [
      "91 is last_Day_num\n",
      "97 is last_test_day\n",
      "        Sno       Date State/UnionTerritory     Cured    Deaths  Confirmed  \\\n",
      "1215   1216 2020-04-22                   28  5.442418  3.258097   7.496652   \n",
      "1247   1248 2020-04-23                   28  5.442418  3.332205   7.544861   \n",
      "1279   1280 2020-04-24                   28  5.442418  3.332205   7.583248   \n",
      "1311   1312 2020-04-25                   28  5.442418  3.332205   7.618251   \n",
      "1343   1344 2020-04-26                   28  6.202536  3.526361   7.642044   \n",
      "1375   1376 2020-04-27                   28  6.251904  3.737670   7.689829   \n",
      "1407   1408 2020-04-28                   28  6.507278  3.850148   7.724447   \n",
      "1439   1440 2020-04-29                   28  6.645091  3.951244   7.768533   \n",
      "1471   1472 2020-04-30                   28  6.645091  3.951244   7.799343   \n",
      "0     99999 2020-05-01                   28  0.000000  0.000000   0.000000   \n",
      "1     99999 2020-05-02                   28  0.000000  0.000000   0.000000   \n",
      "2     99999 2020-05-03                   28  0.000000  0.000000   0.000000   \n",
      "3     99999 2020-05-04                   28  0.000000  0.000000   0.000000   \n",
      "4     99999 2020-05-05                   28  0.000000  0.000000   0.000000   \n",
      "5     99999 2020-05-06                   28  0.000000  0.000000   0.000000   \n",
      "\n",
      "     Day_num Day Month  \n",
      "1215      83  22     4  \n",
      "1247      84  23     4  \n",
      "1279      85  24     4  \n",
      "1311      86  25     4  \n",
      "1343      87  26     4  \n",
      "1375      88  27     4  \n",
      "1407      89  28     4  \n",
      "1439      90  29     4  \n",
      "1471      91  30     4  \n",
      "0         92  32     5  \n",
      "1         93  33     5  \n",
      "2         94  34     5  \n",
      "3         95  35     5  \n",
      "4         96  36     5  \n",
      "5         97  37     5  \n"
     ]
    }
   ],
   "source": [
    "pred_future_confirmed(india_data, 'Rajasthan', 15, state_dict )"
   ]
  },
  {
   "cell_type": "code",
   "execution_count": null,
   "metadata": {},
   "outputs": [],
   "source": []
  }
 ],
 "metadata": {
  "kernelspec": {
   "display_name": "Python 3",
   "language": "python",
   "name": "python3"
  },
  "language_info": {
   "codemirror_mode": {
    "name": "ipython",
    "version": 3
   },
   "file_extension": ".py",
   "mimetype": "text/x-python",
   "name": "python",
   "nbconvert_exporter": "python",
   "pygments_lexer": "ipython3",
   "version": "3.7.4"
  }
 },
 "nbformat": 4,
 "nbformat_minor": 2
}
