{
 "cells": [
  {
   "cell_type": "code",
   "execution_count": 1,
   "metadata": {},
   "outputs": [],
   "source": [
    "import numpy as np\n",
    "import pandas as pd\n",
    "import matplotlib.pyplot as plt\n",
    "import seaborn as sns\n",
    "sns.set_style('whitegrid')\n",
    "import datetime as dt\n",
    "from sklearn import preprocessing\n",
    "from sklearn import linear_model\n",
    "import warnings\n",
    "warnings.filterwarnings('ignore')"
   ]
  },
  {
   "cell_type": "code",
   "execution_count": 2,
   "metadata": {},
   "outputs": [
    {
     "name": "stdout",
     "output_type": "stream",
     "text": [
      "2020-04-29\n"
     ]
    }
   ],
   "source": [
    "data = pd.read_csv(\"./dataset/train.csv\")\n",
    "print(max(data['Date']))"
   ]
  },
  {
   "cell_type": "code",
   "execution_count": 3,
   "metadata": {},
   "outputs": [
    {
     "data": {
      "text/html": [
       "<div>\n",
       "<style scoped>\n",
       "    .dataframe tbody tr th:only-of-type {\n",
       "        vertical-align: middle;\n",
       "    }\n",
       "\n",
       "    .dataframe tbody tr th {\n",
       "        vertical-align: top;\n",
       "    }\n",
       "\n",
       "    .dataframe thead th {\n",
       "        text-align: right;\n",
       "    }\n",
       "</style>\n",
       "<table border=\"1\" class=\"dataframe\">\n",
       "  <thead>\n",
       "    <tr style=\"text-align: right;\">\n",
       "      <th></th>\n",
       "      <th>Id</th>\n",
       "      <th>Province_State</th>\n",
       "      <th>Country_Region</th>\n",
       "      <th>Date</th>\n",
       "      <th>ConfirmedCases</th>\n",
       "      <th>Fatalities</th>\n",
       "    </tr>\n",
       "  </thead>\n",
       "  <tbody>\n",
       "    <tr>\n",
       "      <th>0</th>\n",
       "      <td>1</td>\n",
       "      <td>NaN</td>\n",
       "      <td>Afghanistan</td>\n",
       "      <td>2020-01-22</td>\n",
       "      <td>0.0</td>\n",
       "      <td>0.0</td>\n",
       "    </tr>\n",
       "    <tr>\n",
       "      <th>1</th>\n",
       "      <td>2</td>\n",
       "      <td>NaN</td>\n",
       "      <td>Afghanistan</td>\n",
       "      <td>2020-01-23</td>\n",
       "      <td>0.0</td>\n",
       "      <td>0.0</td>\n",
       "    </tr>\n",
       "    <tr>\n",
       "      <th>2</th>\n",
       "      <td>3</td>\n",
       "      <td>NaN</td>\n",
       "      <td>Afghanistan</td>\n",
       "      <td>2020-01-24</td>\n",
       "      <td>0.0</td>\n",
       "      <td>0.0</td>\n",
       "    </tr>\n",
       "    <tr>\n",
       "      <th>3</th>\n",
       "      <td>4</td>\n",
       "      <td>NaN</td>\n",
       "      <td>Afghanistan</td>\n",
       "      <td>2020-01-25</td>\n",
       "      <td>0.0</td>\n",
       "      <td>0.0</td>\n",
       "    </tr>\n",
       "    <tr>\n",
       "      <th>4</th>\n",
       "      <td>5</td>\n",
       "      <td>NaN</td>\n",
       "      <td>Afghanistan</td>\n",
       "      <td>2020-01-26</td>\n",
       "      <td>0.0</td>\n",
       "      <td>0.0</td>\n",
       "    </tr>\n",
       "  </tbody>\n",
       "</table>\n",
       "</div>"
      ],
      "text/plain": [
       "   Id Province_State Country_Region        Date  ConfirmedCases  Fatalities\n",
       "0   1            NaN    Afghanistan  2020-01-22             0.0         0.0\n",
       "1   2            NaN    Afghanistan  2020-01-23             0.0         0.0\n",
       "2   3            NaN    Afghanistan  2020-01-24             0.0         0.0\n",
       "3   4            NaN    Afghanistan  2020-01-25             0.0         0.0\n",
       "4   5            NaN    Afghanistan  2020-01-26             0.0         0.0"
      ]
     },
     "execution_count": 3,
     "metadata": {},
     "output_type": "execute_result"
    }
   ],
   "source": [
    "data.head()"
   ]
  },
  {
   "cell_type": "code",
   "execution_count": 4,
   "metadata": {},
   "outputs": [
    {
     "data": {
      "text/html": [
       "<div>\n",
       "<style scoped>\n",
       "    .dataframe tbody tr th:only-of-type {\n",
       "        vertical-align: middle;\n",
       "    }\n",
       "\n",
       "    .dataframe tbody tr th {\n",
       "        vertical-align: top;\n",
       "    }\n",
       "\n",
       "    .dataframe thead th {\n",
       "        text-align: right;\n",
       "    }\n",
       "</style>\n",
       "<table border=\"1\" class=\"dataframe\">\n",
       "  <thead>\n",
       "    <tr style=\"text-align: right;\">\n",
       "      <th></th>\n",
       "      <th>Id</th>\n",
       "      <th>Date</th>\n",
       "      <th>ConfirmedCases</th>\n",
       "    </tr>\n",
       "  </thead>\n",
       "  <tbody>\n",
       "    <tr>\n",
       "      <th>13860</th>\n",
       "      <td>15961</td>\n",
       "      <td>2020-01-22</td>\n",
       "      <td>0.0</td>\n",
       "    </tr>\n",
       "    <tr>\n",
       "      <th>13861</th>\n",
       "      <td>15962</td>\n",
       "      <td>2020-01-23</td>\n",
       "      <td>0.0</td>\n",
       "    </tr>\n",
       "    <tr>\n",
       "      <th>13862</th>\n",
       "      <td>15963</td>\n",
       "      <td>2020-01-24</td>\n",
       "      <td>0.0</td>\n",
       "    </tr>\n",
       "    <tr>\n",
       "      <th>13863</th>\n",
       "      <td>15964</td>\n",
       "      <td>2020-01-25</td>\n",
       "      <td>0.0</td>\n",
       "    </tr>\n",
       "    <tr>\n",
       "      <th>13864</th>\n",
       "      <td>15965</td>\n",
       "      <td>2020-01-26</td>\n",
       "      <td>0.0</td>\n",
       "    </tr>\n",
       "  </tbody>\n",
       "</table>\n",
       "</div>"
      ],
      "text/plain": [
       "          Id       Date  ConfirmedCases\n",
       "13860  15961 2020-01-22             0.0\n",
       "13861  15962 2020-01-23             0.0\n",
       "13862  15963 2020-01-24             0.0\n",
       "13863  15964 2020-01-25             0.0\n",
       "13864  15965 2020-01-26             0.0"
      ]
     },
     "execution_count": 4,
     "metadata": {},
     "output_type": "execute_result"
    }
   ],
   "source": [
    "data['Date'] = pd.to_datetime(data['Date'], dayfirst = True)\n",
    "india_data = data.loc[data['Country_Region'] == 'India']\n",
    "india_data.head()\n",
    "india_data = india_data.drop(columns = ['Province_State', 'Fatalities', 'Country_Region'])\n",
    "india_data.head()"
   ]
  },
  {
   "cell_type": "code",
   "execution_count": 5,
   "metadata": {},
   "outputs": [
    {
     "data": {
      "text/html": [
       "<div>\n",
       "<style scoped>\n",
       "    .dataframe tbody tr th:only-of-type {\n",
       "        vertical-align: middle;\n",
       "    }\n",
       "\n",
       "    .dataframe tbody tr th {\n",
       "        vertical-align: top;\n",
       "    }\n",
       "\n",
       "    .dataframe thead th {\n",
       "        text-align: right;\n",
       "    }\n",
       "</style>\n",
       "<table border=\"1\" class=\"dataframe\">\n",
       "  <thead>\n",
       "    <tr style=\"text-align: right;\">\n",
       "      <th></th>\n",
       "      <th>Id</th>\n",
       "      <th>Date</th>\n",
       "      <th>ConfirmedCases</th>\n",
       "      <th>Day_num</th>\n",
       "      <th>Day</th>\n",
       "      <th>Month</th>\n",
       "      <th>Year</th>\n",
       "    </tr>\n",
       "  </thead>\n",
       "  <tbody>\n",
       "    <tr>\n",
       "      <th>13860</th>\n",
       "      <td>15961</td>\n",
       "      <td>2020-01-22</td>\n",
       "      <td>0.0</td>\n",
       "      <td>0</td>\n",
       "      <td>22</td>\n",
       "      <td>1</td>\n",
       "      <td>2020</td>\n",
       "    </tr>\n",
       "    <tr>\n",
       "      <th>13861</th>\n",
       "      <td>15962</td>\n",
       "      <td>2020-01-23</td>\n",
       "      <td>0.0</td>\n",
       "      <td>1</td>\n",
       "      <td>23</td>\n",
       "      <td>1</td>\n",
       "      <td>2020</td>\n",
       "    </tr>\n",
       "    <tr>\n",
       "      <th>13862</th>\n",
       "      <td>15963</td>\n",
       "      <td>2020-01-24</td>\n",
       "      <td>0.0</td>\n",
       "      <td>2</td>\n",
       "      <td>24</td>\n",
       "      <td>1</td>\n",
       "      <td>2020</td>\n",
       "    </tr>\n",
       "    <tr>\n",
       "      <th>13863</th>\n",
       "      <td>15964</td>\n",
       "      <td>2020-01-25</td>\n",
       "      <td>0.0</td>\n",
       "      <td>3</td>\n",
       "      <td>25</td>\n",
       "      <td>1</td>\n",
       "      <td>2020</td>\n",
       "    </tr>\n",
       "    <tr>\n",
       "      <th>13864</th>\n",
       "      <td>15965</td>\n",
       "      <td>2020-01-26</td>\n",
       "      <td>0.0</td>\n",
       "      <td>4</td>\n",
       "      <td>26</td>\n",
       "      <td>1</td>\n",
       "      <td>2020</td>\n",
       "    </tr>\n",
       "  </tbody>\n",
       "</table>\n",
       "</div>"
      ],
      "text/plain": [
       "          Id       Date  ConfirmedCases  Day_num  Day  Month  Year\n",
       "13860  15961 2020-01-22             0.0        0   22      1  2020\n",
       "13861  15962 2020-01-23             0.0        1   23      1  2020\n",
       "13862  15963 2020-01-24             0.0        2   24      1  2020\n",
       "13863  15964 2020-01-25             0.0        3   25      1  2020\n",
       "13864  15965 2020-01-26             0.0        4   26      1  2020"
      ]
     },
     "execution_count": 5,
     "metadata": {},
     "output_type": "execute_result"
    }
   ],
   "source": [
    "le = preprocessing.LabelEncoder()\n",
    "\n",
    "india_data['Day_num'] = le.fit_transform(india_data.Date)\n",
    "india_data['Day'] = india_data['Date'].dt.day\n",
    "india_data['Month'] = india_data['Date'].dt.month\n",
    "india_data['Year'] = india_data['Date'].dt.year\n",
    "\n",
    "# india_data['State/UnionTerritory'] = le.fit_transform(india_data['State/UnionTerritory'])\n",
    "# number_c = india_data['State/UnionTerritory']\n",
    "# states = le.inverse_transform(india_data['State/UnionTerritory'])\n",
    "# state_dict = dict(zip(states, number_c))\n",
    "\n",
    "india_data[['ConfirmedCases']] = india_data[['ConfirmedCases']].astype('float64')\n",
    "india_data[['ConfirmedCases']] = india_data[['ConfirmedCases']].apply(lambda x: np.log1p(x))\n",
    "india_data.replace([np.inf, -np.inf], 0, inplace=True)\n",
    "india_data.head()"
   ]
  },
  {
   "cell_type": "code",
   "execution_count": 6,
   "metadata": {},
   "outputs": [],
   "source": [
    "def train_test_split_custom(df, start_day, train_lim, test_lim):\n",
    "    \n",
    "    X_train = df.loc[df['Day_num'] <= train_lim]\n",
    "    X_train = X_train[X_train['Day_num'] > start_day]\n",
    "    X_test = df.loc[df['Day_num'] <= test_lim]\n",
    "    X_test = X_test.loc[X_test['Day_num'] > train_lim]\n",
    "    \n",
    "    y_train = X_train['ConfirmedCases']\n",
    "    y_test = X_test['ConfirmedCases']\n",
    "    \n",
    "    X_train = X_train.drop(['ConfirmedCases'], axis = 1)\n",
    "    X_test = X_test.drop(['ConfirmedCases'], axis = 1)\n",
    "    \n",
    "    return X_train, y_train, X_test, y_test"
   ]
  },
  {
   "cell_type": "code",
   "execution_count": 7,
   "metadata": {},
   "outputs": [
    {
     "data": {
      "text/html": [
       "<div>\n",
       "<style scoped>\n",
       "    .dataframe tbody tr th:only-of-type {\n",
       "        vertical-align: middle;\n",
       "    }\n",
       "\n",
       "    .dataframe tbody tr th {\n",
       "        vertical-align: top;\n",
       "    }\n",
       "\n",
       "    .dataframe thead th {\n",
       "        text-align: right;\n",
       "    }\n",
       "</style>\n",
       "<table border=\"1\" class=\"dataframe\">\n",
       "  <thead>\n",
       "    <tr style=\"text-align: right;\">\n",
       "      <th></th>\n",
       "      <th>Id</th>\n",
       "      <th>Date</th>\n",
       "      <th>Day_num</th>\n",
       "      <th>Day</th>\n",
       "      <th>Month</th>\n",
       "      <th>Year</th>\n",
       "    </tr>\n",
       "  </thead>\n",
       "  <tbody>\n",
       "    <tr>\n",
       "      <th>13881</th>\n",
       "      <td>15982</td>\n",
       "      <td>2020-02-12</td>\n",
       "      <td>21</td>\n",
       "      <td>12</td>\n",
       "      <td>2</td>\n",
       "      <td>2020</td>\n",
       "    </tr>\n",
       "    <tr>\n",
       "      <th>13882</th>\n",
       "      <td>15983</td>\n",
       "      <td>2020-02-13</td>\n",
       "      <td>22</td>\n",
       "      <td>13</td>\n",
       "      <td>2</td>\n",
       "      <td>2020</td>\n",
       "    </tr>\n",
       "    <tr>\n",
       "      <th>13883</th>\n",
       "      <td>15984</td>\n",
       "      <td>2020-02-14</td>\n",
       "      <td>23</td>\n",
       "      <td>14</td>\n",
       "      <td>2</td>\n",
       "      <td>2020</td>\n",
       "    </tr>\n",
       "    <tr>\n",
       "      <th>13884</th>\n",
       "      <td>15985</td>\n",
       "      <td>2020-02-15</td>\n",
       "      <td>24</td>\n",
       "      <td>15</td>\n",
       "      <td>2</td>\n",
       "      <td>2020</td>\n",
       "    </tr>\n",
       "    <tr>\n",
       "      <th>13885</th>\n",
       "      <td>15986</td>\n",
       "      <td>2020-02-16</td>\n",
       "      <td>25</td>\n",
       "      <td>16</td>\n",
       "      <td>2</td>\n",
       "      <td>2020</td>\n",
       "    </tr>\n",
       "  </tbody>\n",
       "</table>\n",
       "</div>"
      ],
      "text/plain": [
       "          Id       Date  Day_num  Day  Month  Year\n",
       "13881  15982 2020-02-12       21   12      2  2020\n",
       "13882  15983 2020-02-13       22   13      2  2020\n",
       "13883  15984 2020-02-14       23   14      2  2020\n",
       "13884  15985 2020-02-15       24   15      2  2020\n",
       "13885  15986 2020-02-16       25   16      2  2020"
      ]
     },
     "execution_count": 7,
     "metadata": {},
     "output_type": "execute_result"
    }
   ],
   "source": [
    "X_train, y_train, X_test, y_test = train_test_split_custom(india_data, 20, 80, 99)\n",
    "X_train.head()"
   ]
  },
  {
   "cell_type": "code",
   "execution_count": 8,
   "metadata": {},
   "outputs": [],
   "source": [
    "def lin_reg(X_train, Y_train, X_test):\n",
    "    # Create linear regression object\n",
    "    regr = linear_model.LinearRegression()\n",
    "\n",
    "    # Train the model using the training sets\n",
    "    regr.fit(X_train, Y_train)\n",
    "\n",
    "    # Make predictions using the testing set\n",
    "    y_pred = regr.predict(X_test)\n",
    "    \n",
    "    return regr, y_pred"
   ]
  },
  {
   "cell_type": "code",
   "execution_count": 9,
   "metadata": {},
   "outputs": [],
   "source": [
    "def plot_country(data, start_date, train_lim, test_lim):\n",
    "#     state_data = data[data['State/UnionTerritory'] == state_dict[state_name]]\n",
    "    X_train, y_train, X_test, y_test = train_test_split_custom(data, start_date, train_lim, test_lim)\n",
    "    print(\"X_test.shape\", X_test.shape)\n",
    "    print(\"y_test.shape\", y_test.shape)\n",
    "    X_train['Date']=X_train['Date'].map(dt.datetime.toordinal)\n",
    "    X_test['Date']=X_test['Date'].map(dt.datetime.toordinal)\n",
    "\n",
    "    \n",
    "    model, pred = lin_reg(X_train, y_train, X_test)\n",
    "    \n",
    "    plt.plot(X_test['Day_num'], np.expm1(y_test), color = 'blue')\n",
    "    plt.plot(X_test['Day_num'], np.expm1(pred), color = 'green')\n",
    "    plt.show()"
   ]
  },
  {
   "cell_type": "code",
   "execution_count": 10,
   "metadata": {},
   "outputs": [
    {
     "name": "stdout",
     "output_type": "stream",
     "text": [
      "X_test.shape (18, 6)\n",
      "y_test.shape (18,)\n"
     ]
    },
    {
     "data": {
      "image/png": "[encoded data removed]",
      "text/plain": [
       "<Figure size 432x288 with 1 Axes>"
      ]
     },
     "metadata": {
      "needs_background": "light"
     },
     "output_type": "display_data"
    }
   ],
   "source": [
    "plot_country(india_data, 30, 80, 99)"
   ]
  },
  {
   "cell_type": "code",
   "execution_count": 11,
   "metadata": {},
   "outputs": [],
   "source": [
    "def calculate_lag(df, lag_list, column):\n",
    "    for lag in lag_list:\n",
    "        column_lag = column + \"_\" + str(lag)\n",
    "        df[column_lag] = df[column].shift(lag, fill_value=0)\n",
    "    return df\n",
    "\n",
    "def calculate_trend(df, lag_list, column):\n",
    "    for lag in lag_list:\n",
    "        trend_column_lag = \"Trend_\" + column + \"_\" + str(lag)\n",
    "        df[trend_column_lag] = (df[column].shift(0, fill_value=0) - \n",
    "                                df[column].shift(lag, fill_value=0))/df[column].shift(lag, fill_value=0.001)\n",
    "    return df"
   ]
  },
  {
   "cell_type": "code",
   "execution_count": 12,
   "metadata": {},
   "outputs": [],
   "source": [
    "def split_data_one_day(df, start_date, d, train_lim, test_lim):\n",
    "    X_train = df[df['Day_num'] >= start_date]\n",
    "    X_train = X_train[X_train['Day_num'] < train_lim]\n",
    "    \n",
    "    y_train = X_train['ConfirmedCases']\n",
    "    X_train = X_train.drop(columns = ['ConfirmedCases'])\n",
    "    X_test = df[df['Day_num'] == d]\n",
    "    y_test = X_test['ConfirmedCases']\n",
    "    X_test = X_test.drop(columns = ['ConfirmedCases'])\n",
    "    \n",
    "    return X_train, y_train, X_test, y_test"
   ]
  },
  {
   "cell_type": "code",
   "execution_count": 13,
   "metadata": {},
   "outputs": [],
   "source": [
    "X_train, y_train, X_test, y_test = split_data_one_day(india_data, 60, 81, 80, 90 )\n"
   ]
  },
  {
   "cell_type": "code",
   "execution_count": 32,
   "metadata": {},
   "outputs": [
    {
     "name": "stdout",
     "output_type": "stream",
     "text": [
      "[9.90752937]\n",
      "[9.96979014]\n",
      "[10.04663506]\n",
      "[10.1076929]\n",
      "[10.17671567]\n",
      "[10.23605934]\n",
      "[10.2905171]\n",
      "[10.35217178]\n",
      "[10.40617011]\n"
     ]
    }
   ],
   "source": [
    "def lin_reg_with_lags_state(dataframe,start_date, lag_size, train_lim, test_lim):\n",
    "#     state_data = data[data['State/UnionTerritory'] == state_dict[state_name]]\n",
    "    \n",
    "    #compute lags\n",
    "    data = dataframe.copy()\n",
    "    data = calculate_lag(data, range(1, lag_size), 'ConfirmedCases')\n",
    "    data = calculate_trend(data, range(1, 8), 'ConfirmedCases')\n",
    "    data.replace([np.inf, -np.inf], 0, inplace=True)\n",
    "    data.fillna(0, inplace=True)\n",
    "    \n",
    "    tr_lim = train_lim\n",
    "    ts_lim = test_lim\n",
    "    y_test_data = []\n",
    "    y_pred_data = []\n",
    "    dayd = []\n",
    "    \n",
    "    for d in list(range(train_lim, test_lim)):\n",
    "        X_train, y_train, X_test, y_test = split_data_one_day(data, start_date, d, tr_lim, ts_lim)\n",
    "        X_train['Date']=X_train['Date'].map(dt.datetime.toordinal)\n",
    "        X_test['Date']=X_test['Date'].map(dt.datetime.toordinal)\n",
    "        model, pred = lin_reg(X_train, y_train, X_test)\n",
    "        print(y_test.values)\n",
    "        data.loc[data['Day_num'] == d, 'ConfirmedCases'] = pred\n",
    "        \n",
    "        data = calculate_lag(data, range(1, lag_size), 'ConfirmedCases')\n",
    "        data = calculate_trend(data, range(1, 8), 'ConfirmedCases')\n",
    "        \n",
    "        y_test_data.append(np.expm1(y_test.values))\n",
    "        y_pred_data.append(np.expm1(pred))\n",
    "        dayd.append(d)\n",
    "        tr_lim += 1\n",
    "        start_date += 1\n",
    "        \n",
    "    return y_pred_data, y_test_data, dayd\n",
    "    \n",
    "    \n",
    "y_pred_data, y_test_data, dayd = lin_reg_with_lags_state(india_data, 50, 15, 90, 99)\n",
    "        \n",
    "    \n"
   ]
  },
  {
   "cell_type": "code",
   "execution_count": 33,
   "metadata": {},
   "outputs": [
    {
     "data": {
      "image/png": "[encoded data removed]",
      "text/plain": [
       "<Figure size 432x288 with 1 Axes>"
      ]
     },
     "metadata": {
      "needs_background": "light"
     },
     "output_type": "display_data"
    }
   ],
   "source": [
    "plt.plot(dayd, y_pred_data, color = 'blue')\n",
    "plt.plot(dayd, y_test_data, color = 'green')\n",
    "plt.ylabel('Confirmed')\n",
    "plt.xlabel('Day_num')\n",
    "plt.show()"
   ]
  },
  {
   "cell_type": "code",
   "execution_count": 34,
   "metadata": {},
   "outputs": [],
   "source": [
    "def create_df(data, dayCount):\n",
    "#     state = data['State/UnionTerritory']\n",
    "#     state = state.values[0]\n",
    "    lastid = max(data['Id'])\n",
    "    lastDate = max(data['Date'])\n",
    "    cols = data.columns\n",
    "    lastDay_num = max(data['Day_num'])\n",
    "    lastDay = max(data['Day'])\n",
    "    \n",
    "    curr_id = lastid + 1;\n",
    "    start_date = lastDate + dt.timedelta(days=1)\n",
    "    curr_day_num = lastDay_num + 1\n",
    "    curr_day = lastDay + 1\n",
    "    df = pd.DataFrame(columns = cols)\n",
    "#     df1 = pd.Series([99999, start_date, state, 0.0, 0.0, 0.0 curr_day_num, curr_day, 3 ], index = cols)\n",
    "    for i in range(1, dayCount):\n",
    "        df1 = pd.Series([curr_id, start_date, 0.0, curr_day_num, curr_day, 5, 2020 ], index = cols)  \n",
    "        df = df.append(df1, ignore_index = True)\n",
    "        start_date = start_date + dt.timedelta(days = 1)\n",
    "        curr_day_num += 1\n",
    "        curr_day += 1\n",
    "        curr_id += 1\n",
    "        \n",
    "    return df"
   ]
  },
  {
   "cell_type": "code",
   "execution_count": 35,
   "metadata": {},
   "outputs": [],
   "source": [
    "def pred_future_confirmed(data, lag_size, next_days):\n",
    "#         state_data = data[data['State/UnionTerritory'] == state_dict[state_name]]\n",
    "        train_lim = max(data['Day_num'])\n",
    "        extra_data = create_df(data, next_days)\n",
    "        data = data.append(extra_data)\n",
    "        test_lim = max(data['Day_num'])\n",
    "        \n",
    "        data = calculate_lag(data, range(1, lag_size), 'ConfirmedCases')\n",
    "        data = calculate_trend(data, range(1, 8), 'ConfirmedCases')\n",
    "        data.replace([np.inf, -np.inf], 0, inplace=True)\n",
    "        data.fillna(0, inplace=True)\n",
    "        \n",
    "        tr_lim = train_lim\n",
    "        ts_lim = test_lim\n",
    "        y_test_data = []\n",
    "        y_pred_data = []\n",
    "        dayd = []\n",
    "        start_date = train_lim - 12\n",
    "        \n",
    "        \n",
    "        \n",
    "        for d in list(range(train_lim, test_lim)):\n",
    "#             print('start_date = ', start_date, ' d = ', d, ' tr_lim = ', tr_lim,)\n",
    "            X_train, y_train, X_test, y_test = split_data_one_day(data, start_date, d, tr_lim, ts_lim)\n",
    "#             print(X_test.columns)\n",
    "            X_train['Date']=X_train['Date'].map(dt.datetime.toordinal)\n",
    "            X_test['Date']=X_test['Date'].map(dt.datetime.toordinal)\n",
    "            model, pred = lin_reg(X_train, y_train, X_test)\n",
    "#             print((pred))\n",
    "            data.loc[data['Day_num'] == d , 'ConfirmedCases'] = pred\n",
    "#             print(state_data.loc[state_data['Day_num'] == d])\n",
    "#             state_data.loc[state_data['Day_num'] == d] = calculate_lag(state_data.loc[state_data['Day_num'] == d], range(1, lag_size), 'Confirmed')\n",
    "#             state_data.loc[state_data['Day_num'] == d] = calculate_trend(state_data.loc[state_data['Day_num'] == d], range(1, 8), 'Confirmed')\n",
    "            data = calculate_lag(data, range(1, lag_size), 'ConfirmedCases')\n",
    "            data = calculate_trend(data, range(1, 8), 'ConfirmedCases')\n",
    "#             print(state_data.loc[state_data['Day_num'] == d, 'Confirmed'])\n",
    "            y_test_data.append(np.expm1(y_test.values))\n",
    "            y_pred_data.append(np.expm1(pred))\n",
    "            dayd.append(d)\n",
    "            tr_lim += 1\n",
    "            start_date += 1\n",
    "        \n",
    "        return y_pred_data, y_test_data, dayd\n"
   ]
  },
  {
   "cell_type": "code",
   "execution_count": 36,
   "metadata": {},
   "outputs": [],
   "source": [
    "y_pred_next, y_test_next, dayd_next = pred_future_confirmed(india_data, 40, 15)"
   ]
  },
  {
   "cell_type": "code",
   "execution_count": 38,
   "metadata": {},
   "outputs": [
    {
     "data": {
      "image/png": "[encoded data removed]",
      "text/plain": [
       "<Figure size 432x288 with 1 Axes>"
      ]
     },
     "metadata": {
      "needs_background": "light"
     },
     "output_type": "display_data"
    }
   ],
   "source": [
    "plt.plot(dayd, y_pred_data, color = 'blue', label = 'Predicted')\n",
    "plt.plot(dayd, y_test_data, color = 'green',label = 'Actual')\n",
    "plt.plot(dayd_next, y_pred_next, color = 'orange', label = 'Future Predicted')\n",
    "plt.legend(loc = 'upper left')\n",
    "plt.ylabel('Confirmed')\n",
    "plt.xlabel('Day_num')\n",
    "plt.title('India')\n",
    "plt.show()"
   ]
  },
  {
   "cell_type": "code",
   "execution_count": 20,
   "metadata": {},
   "outputs": [
    {
     "data": {
      "text/html": [
       "<div>\n",
       "<style scoped>\n",
       "    .dataframe tbody tr th:only-of-type {\n",
       "        vertical-align: middle;\n",
       "    }\n",
       "\n",
       "    .dataframe tbody tr th {\n",
       "        vertical-align: top;\n",
       "    }\n",
       "\n",
       "    .dataframe thead th {\n",
       "        text-align: right;\n",
       "    }\n",
       "</style>\n",
       "<table border=\"1\" class=\"dataframe\">\n",
       "  <thead>\n",
       "    <tr style=\"text-align: right;\">\n",
       "      <th></th>\n",
       "      <th>Id</th>\n",
       "      <th>Date</th>\n",
       "      <th>ConfirmedCases</th>\n",
       "      <th>Day_num</th>\n",
       "      <th>Day</th>\n",
       "      <th>Month</th>\n",
       "      <th>Year</th>\n",
       "    </tr>\n",
       "  </thead>\n",
       "  <tbody>\n",
       "    <tr>\n",
       "      <th>21978</th>\n",
       "      <td>25309</td>\n",
       "      <td>2020-01-22</td>\n",
       "      <td>0.0</td>\n",
       "      <td>0</td>\n",
       "      <td>22</td>\n",
       "      <td>1</td>\n",
       "      <td>2020</td>\n",
       "    </tr>\n",
       "    <tr>\n",
       "      <th>21979</th>\n",
       "      <td>25310</td>\n",
       "      <td>2020-01-23</td>\n",
       "      <td>0.0</td>\n",
       "      <td>1</td>\n",
       "      <td>23</td>\n",
       "      <td>1</td>\n",
       "      <td>2020</td>\n",
       "    </tr>\n",
       "    <tr>\n",
       "      <th>21980</th>\n",
       "      <td>25311</td>\n",
       "      <td>2020-01-24</td>\n",
       "      <td>0.0</td>\n",
       "      <td>2</td>\n",
       "      <td>24</td>\n",
       "      <td>1</td>\n",
       "      <td>2020</td>\n",
       "    </tr>\n",
       "    <tr>\n",
       "      <th>21981</th>\n",
       "      <td>25312</td>\n",
       "      <td>2020-01-25</td>\n",
       "      <td>0.0</td>\n",
       "      <td>3</td>\n",
       "      <td>25</td>\n",
       "      <td>1</td>\n",
       "      <td>2020</td>\n",
       "    </tr>\n",
       "    <tr>\n",
       "      <th>21982</th>\n",
       "      <td>25313</td>\n",
       "      <td>2020-01-26</td>\n",
       "      <td>0.0</td>\n",
       "      <td>4</td>\n",
       "      <td>26</td>\n",
       "      <td>1</td>\n",
       "      <td>2020</td>\n",
       "    </tr>\n",
       "  </tbody>\n",
       "</table>\n",
       "</div>"
      ],
      "text/plain": [
       "          Id       Date  ConfirmedCases  Day_num  Day  Month  Year\n",
       "21978  25309 2020-01-22             0.0        0   22      1  2020\n",
       "21979  25310 2020-01-23             0.0        1   23      1  2020\n",
       "21980  25311 2020-01-24             0.0        2   24      1  2020\n",
       "21981  25312 2020-01-25             0.0        3   25      1  2020\n",
       "21982  25313 2020-01-26             0.0        4   26      1  2020"
      ]
     },
     "execution_count": 20,
     "metadata": {},
     "output_type": "execute_result"
    }
   ],
   "source": [
    "spain_data = data.loc[data['Country_Region'] == 'Spain']\n",
    "spain_data.head()\n",
    "spain_data = spain_data.drop(columns = ['Province_State', 'Fatalities', 'Country_Region'])\n",
    "spain_data.head()\n",
    "le = preprocessing.LabelEncoder()\n",
    "\n",
    "spain_data['Day_num'] = le.fit_transform(spain_data.Date)\n",
    "spain_data['Day'] = spain_data['Date'].dt.day\n",
    "spain_data['Month'] = spain_data['Date'].dt.month\n",
    "spain_data['Year'] = spain_data['Date'].dt.year\n",
    "\n",
    "# spain_data['State/UnionTerritory'] = le.fit_transform(spain_data['State/UnionTerritory'])\n",
    "# number_c = spain_data['State/UnionTerritory']\n",
    "# states = le.inverse_transform(spain_data['State/UnionTerritory'])\n",
    "# state_dict = dict(zip(states, number_c))\n",
    "\n",
    "spain_data[['ConfirmedCases']] = spain_data[['ConfirmedCases']].astype('float64')\n",
    "spain_data[['ConfirmedCases']] = spain_data[['ConfirmedCases']].apply(lambda x: np.log1p(x))\n",
    "spain_data.replace([np.inf, -np.inf], 0, inplace=True)\n",
    "spain_data.head()"
   ]
  },
  {
   "cell_type": "code",
   "execution_count": 44,
   "metadata": {},
   "outputs": [
    {
     "name": "stdout",
     "output_type": "stream",
     "text": [
      "[12.22675234]\n",
      "[12.2471666]\n",
      "[12.26916481]\n",
      "[12.30031407]\n",
      "[12.31832933]\n",
      "[12.33107401]\n",
      "[12.34332274]\n",
      "[12.35504853]\n",
      "[12.37539339]\n"
     ]
    },
    {
     "data": {
      "image/png": "[encoded data removed]",
      "text/plain": [
       "<Figure size 432x288 with 1 Axes>"
      ]
     },
     "metadata": {
      "needs_background": "light"
     },
     "output_type": "display_data"
    }
   ],
   "source": [
    "y_pred_data, y_test_data, dayd = lin_reg_with_lags_state(spain_data, 50, 15, 90, 99)\n",
    "y_pred_next, y_test_next, dayd_next = pred_future_confirmed(spain_data, 40, 7)\n",
    "plt.plot(dayd, y_pred_data, color = 'blue', label = 'Predicted')\n",
    "plt.plot(dayd, y_test_data, color = 'green', label = 'Actual')\n",
    "plt.plot(dayd_next, y_pred_next, color = 'orange', label = 'Future Predicted')\n",
    "plt.legend(loc = 'bottom left')\n",
    "plt.ylabel('Confirmed')\n",
    "plt.xlabel('Day_num')\n",
    "plt.title('Spain')\n",
    "plt.show()"
   ]
  },
  {
   "cell_type": "code",
   "execution_count": 31,
   "metadata": {},
   "outputs": [
    {
     "data": {
      "text/html": [
       "<div>\n",
       "<style scoped>\n",
       "    .dataframe tbody tr th:only-of-type {\n",
       "        vertical-align: middle;\n",
       "    }\n",
       "\n",
       "    .dataframe tbody tr th {\n",
       "        vertical-align: top;\n",
       "    }\n",
       "\n",
       "    .dataframe thead th {\n",
       "        text-align: right;\n",
       "    }\n",
       "</style>\n",
       "<table border=\"1\" class=\"dataframe\">\n",
       "  <thead>\n",
       "    <tr style=\"text-align: right;\">\n",
       "      <th></th>\n",
       "      <th>Id</th>\n",
       "      <th>Date</th>\n",
       "      <th>ConfirmedCases</th>\n",
       "      <th>Day_num</th>\n",
       "      <th>Day</th>\n",
       "      <th>Month</th>\n",
       "      <th>Year</th>\n",
       "    </tr>\n",
       "  </thead>\n",
       "  <tbody>\n",
       "    <tr>\n",
       "      <th>15048</th>\n",
       "      <td>17329</td>\n",
       "      <td>2020-01-22</td>\n",
       "      <td>0.693147</td>\n",
       "      <td>0</td>\n",
       "      <td>22</td>\n",
       "      <td>1</td>\n",
       "      <td>2020</td>\n",
       "    </tr>\n",
       "    <tr>\n",
       "      <th>15049</th>\n",
       "      <td>17330</td>\n",
       "      <td>2020-01-23</td>\n",
       "      <td>0.693147</td>\n",
       "      <td>1</td>\n",
       "      <td>23</td>\n",
       "      <td>1</td>\n",
       "      <td>2020</td>\n",
       "    </tr>\n",
       "    <tr>\n",
       "      <th>15050</th>\n",
       "      <td>17331</td>\n",
       "      <td>2020-01-24</td>\n",
       "      <td>1.098612</td>\n",
       "      <td>2</td>\n",
       "      <td>24</td>\n",
       "      <td>1</td>\n",
       "      <td>2020</td>\n",
       "    </tr>\n",
       "    <tr>\n",
       "      <th>15051</th>\n",
       "      <td>17332</td>\n",
       "      <td>2020-01-25</td>\n",
       "      <td>1.098612</td>\n",
       "      <td>3</td>\n",
       "      <td>25</td>\n",
       "      <td>1</td>\n",
       "      <td>2020</td>\n",
       "    </tr>\n",
       "    <tr>\n",
       "      <th>15052</th>\n",
       "      <td>17333</td>\n",
       "      <td>2020-01-26</td>\n",
       "      <td>1.386294</td>\n",
       "      <td>4</td>\n",
       "      <td>26</td>\n",
       "      <td>1</td>\n",
       "      <td>2020</td>\n",
       "    </tr>\n",
       "  </tbody>\n",
       "</table>\n",
       "</div>"
      ],
      "text/plain": [
       "          Id       Date  ConfirmedCases  Day_num  Day  Month  Year\n",
       "15048  17329 2020-01-22        0.693147        0   22      1  2020\n",
       "15049  17330 2020-01-23        0.693147        1   23      1  2020\n",
       "15050  17331 2020-01-24        1.098612        2   24      1  2020\n",
       "15051  17332 2020-01-25        1.098612        3   25      1  2020\n",
       "15052  17333 2020-01-26        1.386294        4   26      1  2020"
      ]
     },
     "execution_count": 31,
     "metadata": {},
     "output_type": "execute_result"
    }
   ],
   "source": [
    "SK_data = data.loc[data['Country_Region'] == 'Korea, South']\n",
    "SK_data.head()\n",
    "SK_data = SK_data.drop(columns = ['Province_State', 'Fatalities', 'Country_Region'])\n",
    "SK_data.head()\n",
    "le = preprocessing.LabelEncoder()\n",
    "\n",
    "SK_data['Day_num'] = le.fit_transform(SK_data.Date)\n",
    "SK_data['Day'] = SK_data['Date'].dt.day\n",
    "SK_data['Month'] = SK_data['Date'].dt.month\n",
    "SK_data['Year'] = SK_data['Date'].dt.year\n",
    "\n",
    "# SK_data['State/UnionTerritory'] = le.fit_transform(SK_data['State/UnionTerritory'])\n",
    "# number_c = SK_data['State/UnionTerritory']\n",
    "# states = le.inverse_transform(SK_data['State/UnionTerritory'])\n",
    "# state_dict = dict(zip(states, number_c))\n",
    "\n",
    "SK_data[['ConfirmedCases']] = SK_data[['ConfirmedCases']].astype('float64')\n",
    "SK_data[['ConfirmedCases']] = SK_data[['ConfirmedCases']].apply(lambda x: np.log1p(x))\n",
    "SK_data.replace([np.inf, -np.inf], 0, inplace=True)\n",
    "SK_data.head()"
   ]
  },
  {
   "cell_type": "code",
   "execution_count": 41,
   "metadata": {},
   "outputs": [
    {
     "name": "stdout",
     "output_type": "stream",
     "text": [
      "[9.27650257]\n",
      "[9.27753162]\n",
      "[9.27883979]\n",
      "[9.27977315]\n",
      "[9.28070563]\n",
      "[9.28163725]\n",
      "[9.28294006]\n",
      "[9.28377669]\n",
      "[9.2841483]\n"
     ]
    },
    {
     "data": {
      "image/png": "[encoded data removed]",
      "text/plain": [
       "<Figure size 432x288 with 1 Axes>"
      ]
     },
     "metadata": {
      "needs_background": "light"
     },
     "output_type": "display_data"
    }
   ],
   "source": [
    "y_pred_data, y_test_data, dayd = lin_reg_with_lags_state(SK_data, 50, 15, 90, 99)\n",
    "y_pred_next, y_test_next, dayd_next = pred_future_confirmed(SK_data, 40, 15)\n",
    "plt.plot(dayd, y_pred_data, color = 'blue', label = 'Predicted')\n",
    "plt.plot(dayd, y_test_data, color = 'green', label = 'Actual')\n",
    "plt.plot(dayd_next, y_pred_next, color = 'orange', label = 'Future Predicted')\n",
    "plt.legend(loc = 'upper right')\n",
    "plt.ylabel('Confirmed')\n",
    "plt.xlabel('Day_num')\n",
    "plt.title('Spain')\n",
    "plt.show()"
   ]
  },
  {
   "cell_type": "code",
   "execution_count": null,
   "metadata": {},
   "outputs": [],
   "source": []
  }
 ],
 "metadata": {
  "kernelspec": {
   "display_name": "Python 3",
   "language": "python",
   "name": "python3"
  },
  "language_info": {
   "codemirror_mode": {
    "name": "ipython",
    "version": 3
   },
   "file_extension": ".py",
   "mimetype": "text/x-python",
   "name": "python",
   "nbconvert_exporter": "python",
   "pygments_lexer": "ipython3",
   "version": "3.7.4"
  }
 },
 "nbformat": 4,
 "nbformat_minor": 2
}
